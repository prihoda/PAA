{
 "cells": [
  {
   "cell_type": "markdown",
   "metadata": {},
   "source": [
    "# Řešení problému batohu pomocí evolučních algoritmů"
   ]
  },
  {
   "cell_type": "code",
   "execution_count": 177,
   "metadata": {
    "collapsed": true
   },
   "outputs": [],
   "source": [
    "import pandas as pd\n",
    "import numpy as np\n",
    "import csv\n",
    "import time\n",
    "import matplotlib.pyplot as plt\n",
    "from __future__ import print_function\n",
    "%matplotlib inline\n",
    "plt.style.use('ggplot')"
   ]
  },
  {
   "cell_type": "code",
   "execution_count": 2,
   "metadata": {
    "collapsed": true
   },
   "outputs": [],
   "source": [
    "# Zobrazení progress baru\n",
    "\n",
    "def start_progress(size, every=1, title=''):\n",
    "    from ipywidgets import IntProgress, HTML, VBox\n",
    "    from IPython.display import display\n",
    "    progress = IntProgress(min=0, max=size, value=0)\n",
    "    label = HTML()\n",
    "    title_label = HTML()\n",
    "    title_label.value = title;\n",
    "    box = VBox(children=[title_label, label, progress])\n",
    "    display(box)\n",
    "    return (box, label, progress, size, every, 1)\n",
    "\n",
    "def add_progress(logger):\n",
    "    box, label, progress, size, every, index = logger\n",
    "    if index % every == 0: \n",
    "        progress.value = index\n",
    "        label.value = u'{index} / {size}'.format(index=index,size=size)\n",
    "    if index==size:\n",
    "        box.close()\n",
    "    return (box, label, progress, size, every, index + 1)"
   ]
  },
  {
   "cell_type": "code",
   "execution_count": null,
   "metadata": {
    "collapsed": true
   },
   "outputs": [],
   "source": []
  },
  {
   "cell_type": "code",
   "execution_count": 160,
   "metadata": {
    "collapsed": false
   },
   "outputs": [],
   "source": [
    "\n",
    "def init_genome():\n",
    "    return np.random.randint(0,2,size=GENOME_SIZE).astype(np.bool)\n",
    "\n",
    "def init_population():\n",
    "    global POPULATION, FITNESS\n",
    "    POPULATION = np.ndarray((POPULATION_SIZE, GENOME_SIZE),dtype=np.bool)\n",
    "    FITNESS = np.zeros(POPULATION_SIZE)\n",
    "    for i in range(0, POPULATION_SIZE):\n",
    "        POPULATION[i] = init_genome()\n",
    "        FITNESS[i] = calculate_fitness(POPULATION[i])\n",
    "\n",
    "def mutate(genome):\n",
    "    rand_index = np.random.randint(genome.size)\n",
    "    child = genome.copy()\n",
    "    child[rand_index] = not child[rand_index]\n",
    "    return child\n",
    "    \n",
    "def crossover(genome1, genome2):\n",
    "    a_index = np.random.randint(genome1.size)\n",
    "    b_index = np.random.randint(genome1.size)\n",
    "    start_index = min(a_index, b_index)\n",
    "    stop_index = max(a_index, b_index)\n",
    "    \n",
    "    if a_index < b_index: # flip genomes\n",
    "        foo = genome1\n",
    "        genome1 = genome2\n",
    "        genome2 = foo\n",
    "        \n",
    "    child = genome1.copy()\n",
    "    for i in range(start_index, stop_index):\n",
    "        child[i] = genome2[i]\n",
    "    return child\n",
    "    \n",
    "def select(method='tournament'):\n",
    "    global POPULATION, FITNESS\n",
    "    start_index = 0\n",
    "    new_population = np.ndarray((POPULATION_SIZE, GENOME_SIZE),dtype=np.bool)\n",
    "    new_fitness = np.zeros(POPULATION_SIZE)\n",
    "    if ELITISM_COUNT:\n",
    "        elites = np.argpartition(FITNESS, -ELITISM_COUNT)[-ELITISM_COUNT:]\n",
    "        for i in range(0, ELITISM_COUNT):\n",
    "            new_population[i] = POPULATION[elites[i]]\n",
    "            new_fitness[i] = FITNESS[elites[i]]\n",
    "            \n",
    "    if method=='tournament':\n",
    "        for i in range(ELITISM_COUNT, POPULATION_SIZE):\n",
    "            choices = np.random.choice(POPULATION_SIZE, TOURNAMENT_SIZE)\n",
    "            fitness = FITNESS[choices]\n",
    "            #nans = np.where(np.isnan(fitness))[0]\n",
    "            #if nans.size:\n",
    "            #    fitness[nans] = np.apply_along_axis(calculate_fitness, 1, POPULATION[choices][nans])\n",
    "            #    FITNESS[choices] = fitness\n",
    "            best = choices[np.argmax(fitness)]\n",
    "            new_population[i] = POPULATION[best]\n",
    "            new_fitness[i] = FITNESS[best]\n",
    "        POPULATION = new_population\n",
    "        FITNESS = new_fitness\n",
    "    else:\n",
    "        raise Exception('Method {} not implemented'.format(method))\n",
    "    \n",
    "def mutate_and_crossover(start_index=0):\n",
    "    for i in range(ELITISM_COUNT, POPULATION_SIZE):\n",
    "        mutate_rand = np.random.random_sample()\n",
    "        crossover_rand = np.random.random_sample()\n",
    "        if mutate_rand < MUTATION_PROBABILITY:\n",
    "            POPULATION[i] = mutate(POPULATION[i])\n",
    "            FITNESS[i] = calculate_fitness(POPULATION[i])\n",
    "        if crossover_rand < CROSSOVER_PROBABILITY:\n",
    "            random_partner = np.random.randint(POPULATION_SIZE)\n",
    "            POPULATION[i] = crossover(POPULATION[i], POPULATION[random_partner])\n",
    "            FITNESS[i] = calculate_fitness(POPULATION[i])\n",
    "            \n",
    "def get_results():\n",
    "    return {'min':np.min(FITNESS), 'avg':np.mean(FITNESS), 'max':np.max(FITNESS)}\n",
    "\n",
    "\n",
    "def generation_step():\n",
    "    select()\n",
    "    mutate_and_crossover()\n",
    "\n"
   ]
  },
  {
   "cell_type": "code",
   "execution_count": 208,
   "metadata": {
    "collapsed": false
   },
   "outputs": [],
   "source": [
    "from IPython.display import clear_output\n",
    "\n",
    "RESULTS = None\n",
    "def evolution_start():\n",
    "    global RESULTS\n",
    "    init_population()\n",
    "    RESULTS = pd.DataFrame()\n",
    "\n",
    "def evolution_step():\n",
    "    global RESULTS\n",
    "    generation_step()\n",
    "    RESULTS = RESULTS.append(get_results(), ignore_index=True)\n",
    "    \n",
    "def evolution_results():\n",
    "    clear_output()\n",
    "    fig, ax = plt.subplots(ncols=2, figsize=(15,4))\n",
    "    RESULTS[['max','avg','min']].plot(ax=ax[0])\n",
    "    best = RESULTS['max'].max()\n",
    "    best_idx = RESULTS['max'].idxmax()\n",
    "    ax[0].set_xlim(-3, NUM_GENERATIONS)\n",
    "    ax[0].set_ylim(-1, FITNESS_MAX*1.1)\n",
    "    ax[0].plot([0,NUM_GENERATIONS],[FITNESS_MAX, FITNESS_MAX])\n",
    "    ax[1].hist(FITNESS, bins=20)\n",
    "    plt.show()\n",
    "    if best == FITNESS_MAX:\n",
    "        print('Reached optimal solution in {} generations.'.format(best_idx))\n",
    "    else:\n",
    "        print('Reached {}% sub-optimal solution in {} generations.'.format(int(best*100/FITNESS_MAX),best_idx))\n",
    "        "
   ]
  },
  {
   "cell_type": "code",
   "execution_count": 201,
   "metadata": {
    "collapsed": false
   },
   "outputs": [],
   "source": [
    "def evolution_run(foo=None):\n",
    "    global GENOME_SIZE, POPULATION_SIZE, NUM_GENERATIONS, MUTATION_PROBABILITY, CROSSOVER_PROBABILITY, \\\n",
    "            TOURNAMENT_SIZE, ELITISM_COUNT\n",
    "    GENOME_SIZE = INSTANCE_SIZE\n",
    "    POPULATION_SIZE = POPULATION_SIZE_slider.value\n",
    "    NUM_GENERATIONS = NUM_GENERATIONS_slider.value\n",
    "    MUTATION_PROBABILITY = MUTATION_PROBABILITY_slider.value\n",
    "    CROSSOVER_PROBABILITY = CROSSOVER_PROBABILITY_slider.value\n",
    "    TOURNAMENT_SIZE = TOURNAMENT_SIZE_slider.value\n",
    "    ELITISM_COUNT = ELITISM_COUNT_slider.value\n",
    "\n",
    "    evolution_start() \n",
    "    for i in range(0, NUM_GENERATIONS):\n",
    "        evolution_step()  \n",
    "    evolution_results()"
   ]
  },
  {
   "cell_type": "code",
   "execution_count": 202,
   "metadata": {
    "collapsed": false
   },
   "outputs": [],
   "source": [
    "import ipywidgets as widgets\n",
    "\n",
    "items = []\n",
    "\n",
    "POPULATION_SIZE_slider = widgets.IntSlider(value=100,min=10,max=1000,step=10,description='Population size:')\n",
    "items.append(POPULATION_SIZE_slider)\n",
    "\n",
    "NUM_GENERATIONS_slider = widgets.IntSlider(value=100,min=10,max=5000,step=10,description='Number of generations:')\n",
    "items.append(NUM_GENERATIONS_slider)\n",
    "\n",
    "TOURNAMENT_SIZE_slider = widgets.IntSlider(value=3,min=1,max=50,step=1,description='Tournament size:')\n",
    "items.append(TOURNAMENT_SIZE_slider)\n",
    "\n",
    "ELITISM_COUNT_slider = widgets.IntSlider(value=3,min=0,max=50,step=1,description='Elitism count:')\n",
    "items.append(ELITISM_COUNT_slider)\n",
    "\n",
    "MUTATION_PROBABILITY_slider = widgets.FloatSlider(value=0.3,min=0,max=1,step=0.05,description='Mutation probability:')\n",
    "items.append(MUTATION_PROBABILITY_slider)\n",
    "\n",
    "CROSSOVER_PROBABILITY_slider = widgets.FloatSlider(value=0.1,min=0,max=1,step=0.05,description='Crossover probability:')\n",
    "items.append(CROSSOVER_PROBABILITY_slider)\n",
    "\n",
    "button_run = widgets.Button(\n",
    "    description='Run',\n",
    "    disabled=False,\n",
    "    button_style='success', # 'success', 'info', 'warning', 'danger' or ''\n",
    "    icon='play'\n",
    ")\n",
    "button_run.on_click(evolution_run)\n",
    "items.append(button_run)"
   ]
  },
  {
   "cell_type": "markdown",
   "metadata": {},
   "source": [
    "# Knapsack problem"
   ]
  },
  {
   "cell_type": "markdown",
   "metadata": {},
   "source": [
    "## Exhaustive algorithm"
   ]
  },
  {
   "cell_type": "code",
   "execution_count": 120,
   "metadata": {
    "collapsed": true
   },
   "outputs": [],
   "source": [
    "# Dynamic programming\n",
    "# Decomposition by weight\n",
    "\n",
    "DYN_SOLUTIONS_PRICE = None\n",
    "DYN_SOLUTIONS_ARR = None\n",
    "def solve_knapsack_dyn_recursive(ID, n, M, weights, prices, price=0, weight=0, solution=None):\n",
    "    global DYN_SOLUTIONS_PRICE, DYN_SOLUTIONS_ARR\n",
    "    #print(solution)\n",
    "    if weight > M:\n",
    "        return -1, [], 1\n",
    "    if n==0:\n",
    "        return price, solution, 1\n",
    "    first = False\n",
    "    if solution is None:\n",
    "        DYN_SOLUTIONS_PRICE = np.full((n,M+1), -1, dtype=np.int)\n",
    "        DYN_SOLUTIONS_ARR = np.ndarray((n,M+1), dtype=object)\n",
    "        solution = []\n",
    "        first = True\n",
    "    else:\n",
    "        solution_price = DYN_SOLUTIONS_PRICE[n, weight]\n",
    "        if solution_price != -1:\n",
    "            solution_arr = DYN_SOLUTIONS_ARR[n, weight]\n",
    "            #print('Get ',n, weight, ':', (solution_price, solution_arr))\n",
    "            #print('    ',n, weight, ':', (price+solution_price, solution+solution_arr))\n",
    "            return (price+solution_price, solution+solution_arr, 1)\n",
    "        \n",
    "    #print(DYN_SOLUTIONS_ARR[n-1, weight-1])\n",
    "    left, left_solution, left_steps = solve_knapsack_dyn_recursive(ID, n-1, M, weights[1:], prices[1:], price+prices[0], weight+weights[0], solution+[1])\n",
    "    right, right_solution, right_steps = solve_knapsack_dyn_recursive(ID, n-1, M, weights[1:], prices[1:], price, weight, solution+[0])\n",
    "    steps = left_steps + right_steps\n",
    "    result = (right, right_solution, steps)\n",
    "    if left >= right:\n",
    "        result = (left, left_solution, steps)\n",
    "    if not first:\n",
    "        DYN_SOLUTIONS_PRICE[n, weight] = result[0]-price\n",
    "        DYN_SOLUTIONS_ARR[n, weight] = result[1][-n:]\n",
    "        #print('Setting ',n,weight, ':', result)\n",
    "    return result"
   ]
  },
  {
   "cell_type": "markdown",
   "metadata": {},
   "source": [
    "## Loading instances "
   ]
  },
  {
   "cell_type": "code",
   "execution_count": 123,
   "metadata": {
    "collapsed": false
   },
   "outputs": [
    {
     "data": {
      "application/vnd.jupyter.widget-view+json": {
       "model_id": "ee0aff05c91a476b9a22807d6636c6d0"
      }
     },
     "metadata": {},
     "output_type": "display_data"
    },
    {
     "data": {
      "text/html": [
       "<div>\n",
       "<table border=\"1\" class=\"dataframe\">\n",
       "  <thead>\n",
       "    <tr style=\"text-align: right;\">\n",
       "      <th></th>\n",
       "      <th>ID</th>\n",
       "      <th>M</th>\n",
       "      <th>correct</th>\n",
       "      <th>n</th>\n",
       "      <th>prices</th>\n",
       "      <th>weights</th>\n",
       "    </tr>\n",
       "  </thead>\n",
       "  <tbody>\n",
       "    <tr>\n",
       "      <th>0</th>\n",
       "      <td>30_9350</td>\n",
       "      <td>400</td>\n",
       "      <td>2875</td>\n",
       "      <td>30</td>\n",
       "      <td>[61, 24, 31, 73, 92, 168, 65, 4, 54, 165, 17, ...</td>\n",
       "      <td>[22, 28, 1, 6, 38, 5, 11, 20, 46, 3, 32, 14, 4...</td>\n",
       "    </tr>\n",
       "    <tr>\n",
       "      <th>1</th>\n",
       "      <td>30_9351</td>\n",
       "      <td>400</td>\n",
       "      <td>3327</td>\n",
       "      <td>30</td>\n",
       "      <td>[17, 155, 128, 204, 171, 255, 30, 184, 12, 132...</td>\n",
       "      <td>[14, 22, 2, 42, 26, 5, 1, 17, 12, 4, 20, 15, 6...</td>\n",
       "    </tr>\n",
       "    <tr>\n",
       "      <th>2</th>\n",
       "      <td>30_9352</td>\n",
       "      <td>400</td>\n",
       "      <td>3463</td>\n",
       "      <td>30</td>\n",
       "      <td>[130, 136, 202, 120, 115, 7, 15, 151, 235, 236...</td>\n",
       "      <td>[41, 37, 2, 1, 15, 6, 7, 3, 5, 33, 16, 11, 4, ...</td>\n",
       "    </tr>\n",
       "    <tr>\n",
       "      <th>3</th>\n",
       "      <td>30_9353</td>\n",
       "      <td>400</td>\n",
       "      <td>3987</td>\n",
       "      <td>30</td>\n",
       "      <td>[81, 65, 208, 2, 79, 253, 189, 142, 42, 28, 22...</td>\n",
       "      <td>[34, 13, 1, 3, 15, 4, 20, 5, 2, 19, 8, 16, 11,...</td>\n",
       "    </tr>\n",
       "    <tr>\n",
       "      <th>4</th>\n",
       "      <td>30_9354</td>\n",
       "      <td>400</td>\n",
       "      <td>3771</td>\n",
       "      <td>30</td>\n",
       "      <td>[230, 145, 93, 25, 206, 178, 8, 187, 108, 190,...</td>\n",
       "      <td>[20, 36, 11, 35, 12, 4, 1, 29, 14, 5, 15, 2, 3...</td>\n",
       "    </tr>\n",
       "  </tbody>\n",
       "</table>\n",
       "</div>"
      ],
      "text/plain": [
       "        ID    M  correct   n  \\\n",
       "0  30_9350  400     2875  30   \n",
       "1  30_9351  400     3327  30   \n",
       "2  30_9352  400     3463  30   \n",
       "3  30_9353  400     3987  30   \n",
       "4  30_9354  400     3771  30   \n",
       "\n",
       "                                              prices  \\\n",
       "0  [61, 24, 31, 73, 92, 168, 65, 4, 54, 165, 17, ...   \n",
       "1  [17, 155, 128, 204, 171, 255, 30, 184, 12, 132...   \n",
       "2  [130, 136, 202, 120, 115, 7, 15, 151, 235, 236...   \n",
       "3  [81, 65, 208, 2, 79, 253, 189, 142, 42, 28, 22...   \n",
       "4  [230, 145, 93, 25, 206, 178, 8, 187, 108, 190,...   \n",
       "\n",
       "                                             weights  \n",
       "0  [22, 28, 1, 6, 38, 5, 11, 20, 46, 3, 32, 14, 4...  \n",
       "1  [14, 22, 2, 42, 26, 5, 1, 17, 12, 4, 20, 15, 6...  \n",
       "2  [41, 37, 2, 1, 15, 6, 7, 3, 5, 33, 16, 11, 4, ...  \n",
       "3  [34, 13, 1, 3, 15, 4, 20, 5, 2, 19, 8, 16, 11,...  \n",
       "4  [20, 36, 11, 35, 12, 4, 1, 29, 14, 5, 15, 2, 3...  "
      ]
     },
     "execution_count": 123,
     "metadata": {},
     "output_type": "execute_result"
    }
   ],
   "source": [
    "instances = []\n",
    "for instance_size in [30,32,35,37]:\n",
    "    with open('inst/knap_{}.inst.dat'.format(instance_size), 'rb') as f:\n",
    "        reader = csv.reader(f,delimiter=' ')\n",
    "        for row in reader:\n",
    "            ID = '{}_{}'.format(instance_size, row[0])\n",
    "            n = int(row[1])\n",
    "            M = int(row[2])\n",
    "            weights = [int(row[i]) for i in range(3,len(row)-1,2)]\n",
    "            prices = [int(row[i+1]) for i in range(3,len(row)-1,2)]\n",
    "            correct, solution, steps = solve_knapsack_dyn_recursive(ID, n, M, weights, prices) \n",
    "            instances.append({'ID':ID, 'n':n, 'M':M, 'weights':weights,'prices':prices,'correct':correct})\n",
    "instances = pd.DataFrame(instances)\n",
    "instances.head()"
   ]
  },
  {
   "cell_type": "code",
   "execution_count": 164,
   "metadata": {
    "collapsed": true
   },
   "outputs": [],
   "source": [
    "def update_fitness_calculator(instance):\n",
    "    global calculate_fitness, GENOME_SIZE, FITNESS_MAX\n",
    "    \n",
    "    FITNESS_MAX = instance.correct\n",
    "    GENOME_SIZE = instance.n\n",
    "    M = instance.M\n",
    "    nprices = np.array(instance.prices)\n",
    "    nweights = np.array(instance.weights)\n",
    "    \n",
    "    def calculator(genome):\n",
    "        price = nprices[genome].sum()\n",
    "        weight = nweights[genome].sum()\n",
    "        if weight <= M:\n",
    "            return price\n",
    "        return -float(weight)/price\n",
    "        \n",
    "    calculate_fitness = calculator"
   ]
  },
  {
   "cell_type": "code",
   "execution_count": 203,
   "metadata": {
    "collapsed": true
   },
   "outputs": [],
   "source": [
    "update_fitness_calculator(instance)"
   ]
  },
  {
   "cell_type": "code",
   "execution_count": 209,
   "metadata": {
    "collapsed": false,
    "scrolled": true
   },
   "outputs": [
    {
     "data": {
      "image/png": "[encoded data removed]",
      "text/plain": [
       "<matplotlib.figure.Figure at 0x79e3650>"
      ]
     },
     "metadata": {},
     "output_type": "display_data"
    },
    {
     "name": "stdout",
     "output_type": "stream",
     "text": [
      "Reached optimal solution in 65 generations.\n"
     ]
    }
   ],
   "source": [
    "widgets.VBox(items)"
   ]
  },
  {
   "cell_type": "code",
   "execution_count": 68,
   "metadata": {
    "collapsed": false
   },
   "outputs": [
    {
     "data": {
      "image/png": "[encoded data removed]",
      "text/plain": [
       "<matplotlib.figure.Figure at 0x6f2ae10>"
      ]
     },
     "metadata": {},
     "output_type": "display_data"
    }
   ],
   "source": [
    "\n",
    "evolution_results()"
   ]
  },
  {
   "cell_type": "code",
   "execution_count": 9,
   "metadata": {
    "collapsed": false
   },
   "outputs": [],
   "source": []
  },
  {
   "cell_type": "code",
   "execution_count": null,
   "metadata": {
    "collapsed": true
   },
   "outputs": [],
   "source": []
  },
  {
   "cell_type": "code",
   "execution_count": null,
   "metadata": {
    "collapsed": true
   },
   "outputs": [],
   "source": []
  },
  {
   "cell_type": "code",
   "execution_count": null,
   "metadata": {
    "collapsed": true
   },
   "outputs": [],
   "source": []
  },
  {
   "cell_type": "code",
   "execution_count": 27,
   "metadata": {
    "collapsed": false
   },
   "outputs": [
    {
     "data": {
      "application/vnd.jupyter.widget-view+json": {
       "model_id": "1ed110c7fa7d4cceb7c3415ec73963e4"
      }
     },
     "metadata": {},
     "output_type": "display_data"
    }
   ],
   "source": [
    "POPULATION = None\n",
    "FITNESS = None\n",
    "\n",
    "button_play = widgets.Play(\n",
    "    interval=1000,\n",
    "    value=0,\n",
    "    min=0,\n",
    "    max=NUM_GENERATIONS,\n",
    "    step=1,\n",
    "    description=\"Press play\",\n",
    "    disabled=True\n",
    ")\n",
    "\n",
    "play_slider = widgets.IntSlider()\n",
    "play_slider.observe(evolution_play, 'value')\n",
    "widgets.jslink((button_play, 'value'), (play_slider, 'value'))\n",
    "\n",
    "\n",
    "evolution_play(None)\n",
    "button_play.value = 1\n",
    "evolution_play(None)\n",
    "\n",
    "widgets.VBox([widgets.HBox([button_play, play_slider]), fig])"
   ]
  },
  {
   "cell_type": "code",
   "execution_count": 23,
   "metadata": {
    "collapsed": false
   },
   "outputs": [
    {
     "data": {
      "text/plain": [
       "bqplot.figure.Figure"
      ]
     },
     "execution_count": 23,
     "metadata": {},
     "output_type": "execute_result"
    }
   ],
   "source": []
  },
  {
   "cell_type": "code",
   "execution_count": null,
   "metadata": {
    "collapsed": true
   },
   "outputs": [],
   "source": []
  },
  {
   "cell_type": "code",
   "execution_count": 36,
   "metadata": {
    "collapsed": false
   },
   "outputs": [
    {
     "name": "stdout",
     "output_type": "stream",
     "text": [
      "0\n",
      "[ 4.  3.  3.  2.  4.  3.  3.  3.  3.  2.]\n",
      "1\n",
      "[ 3.  4.  4.  4.  4.  3.  2.  4.  4.  4.]\n",
      "2\n"
     ]
    }
   ],
   "source": [
    "button_play.value = 0\n",
    "evolution_play(None)\n",
    "button_play.value = 1\n",
    "evolution_play(None)\n",
    "button_play.value = 2\n",
    "evolution_play(None)"
   ]
  },
  {
   "cell_type": "code",
   "execution_count": null,
   "metadata": {
    "collapsed": false
   },
   "outputs": [],
   "source": [
    "def xx(dd):\n",
    "    print(dd)"
   ]
  },
  {
   "cell_type": "code",
   "execution_count": null,
   "metadata": {
    "collapsed": true
   },
   "outputs": [],
   "source": [
    "button_play"
   ]
  }
 ],
 "metadata": {
  "kernelspec": {
   "display_name": "Python 2",
   "language": "python",
   "name": "python2"
  },
  "language_info": {
   "codemirror_mode": {
    "name": "ipython",
    "version": 2
   },
   "file_extension": ".py",
   "mimetype": "text/x-python",
   "name": "python",
   "nbconvert_exporter": "python",
   "pygments_lexer": "ipython2",
   "version": "2.7.4"
  }
 },
 "nbformat": 4,
 "nbformat_minor": 0
}
